{
 "cells": [
  {
   "cell_type": "code",
   "execution_count": 1,
   "metadata": {},
   "outputs": [
    {
     "name": "stdout",
     "output_type": "stream",
     "text": [
      "<class 'pandas.core.frame.DataFrame'>\n",
      "RangeIndex: 870 entries, 0 to 869\n",
      "Data columns (total 5 columns):\n",
      "author    870 non-null object\n",
      "body      870 non-null object\n",
      "date      870 non-null datetime64[ns]\n",
      "rating    870 non-null object\n",
      "title     870 non-null object\n",
      "dtypes: datetime64[ns](1), object(4)\n",
      "memory usage: 34.1+ KB\n"
     ]
    }
   ],
   "source": [
    "#Importing data from json file\n",
    "import pandas as pd       \n",
    "train = pd.read_json(\"C:/Users/Nitin/Desktop/Desktop FOlder/Study Material/Semester 2/BIA 660/Assgnmnt/Assignment 3/reviews.json\",orient='records',lines=True)\n",
    "\n",
    "train.tail()\n",
    "train.shape\n",
    "train.dtypes\n",
    "train.info()"
   ]
  },
  {
   "cell_type": "code",
   "execution_count": 2,
   "metadata": {},
   "outputs": [
    {
     "data": {
      "text/html": [
       "<div>\n",
       "<style scoped>\n",
       "    .dataframe tbody tr th:only-of-type {\n",
       "        vertical-align: middle;\n",
       "    }\n",
       "\n",
       "    .dataframe tbody tr th {\n",
       "        vertical-align: top;\n",
       "    }\n",
       "\n",
       "    .dataframe thead th {\n",
       "        text-align: right;\n",
       "    }\n",
       "</style>\n",
       "<table border=\"1\" class=\"dataframe\">\n",
       "  <thead>\n",
       "    <tr style=\"text-align: right;\">\n",
       "      <th></th>\n",
       "      <th>author</th>\n",
       "      <th>body</th>\n",
       "      <th>date</th>\n",
       "      <th>rating</th>\n",
       "      <th>title</th>\n",
       "    </tr>\n",
       "  </thead>\n",
       "  <tbody>\n",
       "    <tr>\n",
       "      <th>0</th>\n",
       "      <td>gregory e. howard</td>\n",
       "      <td>these were exactly the model i was hoping for ...</td>\n",
       "      <td>2018-04-21</td>\n",
       "      <td>5</td>\n",
       "      <td>offer a light easily bright enough for the guy...</td>\n",
       "    </tr>\n",
       "    <tr>\n",
       "      <th>1</th>\n",
       "      <td>sue</td>\n",
       "      <td>its a great bright led light perfect for the c...</td>\n",
       "      <td>2018-04-20</td>\n",
       "      <td>5</td>\n",
       "      <td>dependable</td>\n",
       "    </tr>\n",
       "    <tr>\n",
       "      <th>2</th>\n",
       "      <td>sajjatul i nobel</td>\n",
       "      <td>compare to the price not bad used only one day...</td>\n",
       "      <td>2018-04-19</td>\n",
       "      <td>5</td>\n",
       "      <td>good product cheap price</td>\n",
       "    </tr>\n",
       "    <tr>\n",
       "      <th>3</th>\n",
       "      <td>margil flores</td>\n",
       "      <td>the light is nice</td>\n",
       "      <td>2018-04-19</td>\n",
       "      <td>5</td>\n",
       "      <td>five stars</td>\n",
       "    </tr>\n",
       "    <tr>\n",
       "      <th>4</th>\n",
       "      <td>amazon customer</td>\n",
       "      <td>very bright</td>\n",
       "      <td>2018-04-19</td>\n",
       "      <td>5</td>\n",
       "      <td>five stars</td>\n",
       "    </tr>\n",
       "  </tbody>\n",
       "</table>\n",
       "</div>"
      ],
      "text/plain": [
       "              author                                               body  \\\n",
       "0  gregory e. howard  these were exactly the model i was hoping for ...   \n",
       "1                sue  its a great bright led light perfect for the c...   \n",
       "2   sajjatul i nobel  compare to the price not bad used only one day...   \n",
       "3      margil flores                                  the light is nice   \n",
       "4    amazon customer                                        very bright   \n",
       "\n",
       "         date  rating                                              title  \n",
       "0  2018-04-21       5  offer a light easily bright enough for the guy...  \n",
       "1  2018-04-20       5                                         dependable  \n",
       "2  2018-04-19       5                           good product cheap price  \n",
       "3  2018-04-19       5                                         five stars  \n",
       "4  2018-04-19       5                                         five stars  "
      ]
     },
     "execution_count": 2,
     "metadata": {},
     "output_type": "execute_result"
    }
   ],
   "source": [
    "\"\"\"\n",
    "Reference1: https://stackoverflow.com/questions/39512002/convert-whole-dataframe-from-lower-case-to-upper-case-with-pandas/39512116\n",
    "Reference2: https://stackoverflow.com/questions/39782418/remove-punctuations-in-pandas?utm_medium=organic&utm_source=google_rich_qa&utm_campaign=google_rich_qa\n",
    "\"\"\"\n",
    "#Change comment/title/body to lower case: to avoid distinguish between words simply on case\n",
    "\n",
    "train = train.apply(lambda x: x.astype(str).str.lower())\n",
    "\n",
    "#Removing \"out of 5 stars\" from rating and coverting it to integer\n",
    "def clean(x):\n",
    "    x = str(x)\n",
    "    x = x.replace(\"out of 5 stars\", \"\")\n",
    "    return int(float(x))\n",
    "\n",
    "\n",
    "train[\"title\"] = train['title'].str.replace('[^\\w\\s]','')\n",
    "train[\"body\"] = train['body'].str.replace('[^\\w\\s]','')\n",
    "train[\"rating\"] = train[\"rating\"].apply(clean)\n",
    "\n",
    "train.head()"
   ]
  },
  {
   "cell_type": "code",
   "execution_count": 3,
   "metadata": {},
   "outputs": [
    {
     "data": {
      "text/plain": [
       "array(['author', 'body', 'date', 'rating', 'title'], dtype=object)"
      ]
     },
     "execution_count": 3,
     "metadata": {},
     "output_type": "execute_result"
    }
   ],
   "source": [
    "#basic EDA\n",
    "\n",
    "train.shape\n",
    "train.dtypes\n",
    "train.columns.values"
   ]
  },
  {
   "cell_type": "code",
   "execution_count": 4,
   "metadata": {},
   "outputs": [
    {
     "name": "stdout",
     "output_type": "stream",
     "text": [
      "these were exactly the model i was hoping for even tho the brand name is different than the two i bought 3 years ago they are solid well constructed offer a light easily bright enough for the guy with old eyes and my original two never eat batteries i may get another 4pack so ill have one in every room of the house\n"
     ]
    }
   ],
   "source": [
    "print (train[\"body\"][0])"
   ]
  },
  {
   "cell_type": "code",
   "execution_count": 5,
   "metadata": {},
   "outputs": [
    {
     "data": {
      "text/html": [
       "<div>\n",
       "<style scoped>\n",
       "    .dataframe tbody tr th:only-of-type {\n",
       "        vertical-align: middle;\n",
       "    }\n",
       "\n",
       "    .dataframe tbody tr th {\n",
       "        vertical-align: top;\n",
       "    }\n",
       "\n",
       "    .dataframe thead th {\n",
       "        text-align: right;\n",
       "    }\n",
       "</style>\n",
       "<table border=\"1\" class=\"dataframe\">\n",
       "  <thead>\n",
       "    <tr style=\"text-align: right;\">\n",
       "      <th></th>\n",
       "      <th>author</th>\n",
       "      <th>body</th>\n",
       "      <th>date</th>\n",
       "      <th>rating</th>\n",
       "      <th>title</th>\n",
       "    </tr>\n",
       "  </thead>\n",
       "  <tbody>\n",
       "    <tr>\n",
       "      <th>0</th>\n",
       "      <td>gregory e. howard</td>\n",
       "      <td>exactly model hoping even tho brand name diffe...</td>\n",
       "      <td>2018-04-21</td>\n",
       "      <td>5</td>\n",
       "      <td>offer light easily bright enough guy old eyes</td>\n",
       "    </tr>\n",
       "    <tr>\n",
       "      <th>1</th>\n",
       "      <td>sue</td>\n",
       "      <td>great bright led light perfect car walking dog...</td>\n",
       "      <td>2018-04-20</td>\n",
       "      <td>5</td>\n",
       "      <td>dependable</td>\n",
       "    </tr>\n",
       "    <tr>\n",
       "      <th>2</th>\n",
       "      <td>sajjatul i nobel</td>\n",
       "      <td>compare price bad used one day cant say anything</td>\n",
       "      <td>2018-04-19</td>\n",
       "      <td>5</td>\n",
       "      <td>good product cheap price</td>\n",
       "    </tr>\n",
       "    <tr>\n",
       "      <th>3</th>\n",
       "      <td>margil flores</td>\n",
       "      <td>light nice</td>\n",
       "      <td>2018-04-19</td>\n",
       "      <td>5</td>\n",
       "      <td>five stars</td>\n",
       "    </tr>\n",
       "    <tr>\n",
       "      <th>4</th>\n",
       "      <td>amazon customer</td>\n",
       "      <td>bright</td>\n",
       "      <td>2018-04-19</td>\n",
       "      <td>5</td>\n",
       "      <td>five stars</td>\n",
       "    </tr>\n",
       "  </tbody>\n",
       "</table>\n",
       "</div>"
      ],
      "text/plain": [
       "              author                                               body  \\\n",
       "0  gregory e. howard  exactly model hoping even tho brand name diffe...   \n",
       "1                sue  great bright led light perfect car walking dog...   \n",
       "2   sajjatul i nobel   compare price bad used one day cant say anything   \n",
       "3      margil flores                                         light nice   \n",
       "4    amazon customer                                             bright   \n",
       "\n",
       "         date  rating                                          title  \n",
       "0  2018-04-21       5  offer light easily bright enough guy old eyes  \n",
       "1  2018-04-20       5                                     dependable  \n",
       "2  2018-04-19       5                       good product cheap price  \n",
       "3  2018-04-19       5                                     five stars  \n",
       "4  2018-04-19       5                                     five stars  "
      ]
     },
     "execution_count": 5,
     "metadata": {},
     "output_type": "execute_result"
    }
   ],
   "source": [
    "#Import nltk\n",
    "import nltk\n",
    "from nltk.corpus import stopwords\n",
    "from nltk.stem.porter import PorterStemmer\n",
    "stop = set(stopwords.words('english'))\n",
    "ps = PorterStemmer()\n",
    "#adding stopwords\n",
    "train[\"body\"] = train[\"body\"].apply(lambda x: ' '.join([word for word in x.split() if word not in (stop)]))\n",
    "train['title'] = train['title'].apply(lambda x: ' '.join([word for word in x.split() if word not in (stop)]))\n",
    "train.head()"
   ]
  },
  {
   "cell_type": "code",
   "execution_count": 6,
   "metadata": {},
   "outputs": [],
   "source": [
    "#Removing date and Author from dataframe\n",
    "\n",
    "train = train[['title', 'body','rating']].copy()\n",
    "train.to_json(\"C:/Users/Nitin/Desktop/Desktop FOlder/Study Material/Semester 2/BIA 660/Assgnmnt/Assignment 3/train.json\",lines=True, orient = 'records')\n",
    "train.to_csv(\"C:/Users/Nitin/Desktop/Desktop FOlder/Study Material/Semester 2/BIA 660/Assgnmnt/Assignment 3/train.csv\")"
   ]
  },
  {
   "cell_type": "code",
   "execution_count": 7,
   "metadata": {},
   "outputs": [
    {
     "data": {
      "text/html": [
       "<div>\n",
       "<style scoped>\n",
       "    .dataframe tbody tr th:only-of-type {\n",
       "        vertical-align: middle;\n",
       "    }\n",
       "\n",
       "    .dataframe tbody tr th {\n",
       "        vertical-align: top;\n",
       "    }\n",
       "\n",
       "    .dataframe thead th {\n",
       "        text-align: right;\n",
       "    }\n",
       "</style>\n",
       "<table border=\"1\" class=\"dataframe\">\n",
       "  <thead>\n",
       "    <tr style=\"text-align: right;\">\n",
       "      <th></th>\n",
       "      <th>title</th>\n",
       "      <th>body</th>\n",
       "      <th>rating</th>\n",
       "    </tr>\n",
       "  </thead>\n",
       "  <tbody>\n",
       "    <tr>\n",
       "      <th>0</th>\n",
       "      <td>offer light easily bright enough guy old eyes</td>\n",
       "      <td>exactly model hoping even tho brand name diffe...</td>\n",
       "      <td>5</td>\n",
       "    </tr>\n",
       "    <tr>\n",
       "      <th>1</th>\n",
       "      <td>dependable</td>\n",
       "      <td>great bright led light perfect car walking dog...</td>\n",
       "      <td>5</td>\n",
       "    </tr>\n",
       "    <tr>\n",
       "      <th>2</th>\n",
       "      <td>good product cheap price</td>\n",
       "      <td>compare price bad used one day cant say anything</td>\n",
       "      <td>5</td>\n",
       "    </tr>\n",
       "    <tr>\n",
       "      <th>3</th>\n",
       "      <td>five stars</td>\n",
       "      <td>light nice</td>\n",
       "      <td>5</td>\n",
       "    </tr>\n",
       "    <tr>\n",
       "      <th>4</th>\n",
       "      <td>five stars</td>\n",
       "      <td>bright</td>\n",
       "      <td>5</td>\n",
       "    </tr>\n",
       "  </tbody>\n",
       "</table>\n",
       "</div>"
      ],
      "text/plain": [
       "                                           title  \\\n",
       "0  offer light easily bright enough guy old eyes   \n",
       "1                                     dependable   \n",
       "2                       good product cheap price   \n",
       "3                                     five stars   \n",
       "4                                     five stars   \n",
       "\n",
       "                                                body  rating  \n",
       "0  exactly model hoping even tho brand name diffe...       5  \n",
       "1  great bright led light perfect car walking dog...       5  \n",
       "2   compare price bad used one day cant say anything       5  \n",
       "3                                         light nice       5  \n",
       "4                                             bright       5  "
      ]
     },
     "execution_count": 7,
     "metadata": {},
     "output_type": "execute_result"
    }
   ],
   "source": [
    "train.head()"
   ]
  },
  {
   "cell_type": "code",
   "execution_count": 17,
   "metadata": {},
   "outputs": [
    {
     "name": "stdout",
     "output_type": "stream",
     "text": [
      "count    870.000000\n",
      "mean       0.783908\n",
      "std        0.411814\n",
      "min        0.000000\n",
      "25%        1.000000\n",
      "50%        1.000000\n",
      "75%        1.000000\n",
      "max        1.000000\n",
      "Name: rating, dtype: float64\n"
     ]
    },
    {
     "data": {
      "image/png": "[encoded data removed]",
      "text/plain": [
       "<matplotlib.figure.Figure at 0x2ba1293fcf8>"
      ]
     },
     "metadata": {},
     "output_type": "display_data"
    }
   ],
   "source": [
    "import numpy as np\n",
    "import matplotlib.mlab as mlab\n",
    "import matplotlib.pyplot as plt\n",
    "print(train.rating.describe())\n",
    "plt.hist( train.rating, range=[1, 5], facecolor='red', align='mid')\n",
    "plt.show()"
   ]
  },
  {
   "cell_type": "code",
   "execution_count": 9,
   "metadata": {},
   "outputs": [
    {
     "data": {
      "text/plain": [
       "5    563\n",
       "4    119\n",
       "1     81\n",
       "3     54\n",
       "2     53\n",
       "Name: rating, dtype: int64"
      ]
     },
     "execution_count": 9,
     "metadata": {},
     "output_type": "execute_result"
    }
   ],
   "source": [
    "#Let us check how the rating is divided\n",
    "train['rating'].value_counts()"
   ]
  },
  {
   "cell_type": "code",
   "execution_count": 10,
   "metadata": {},
   "outputs": [],
   "source": [
    "#changing date to binary classifier\n",
    "# 0 = rating 1, 2 or 3 which is equivalent to average or bad or negative. Underlying assumption is that customer may not recommend the flashlight his/her friends and family.\n",
    "# 1 = rating 4 or 5, which is equivalent to good/positive rating. Underlying assumption is that customer would recommend the flashlight or service his/her friends and family.\n",
    "\n",
    "train['rating'] = [1 if star >= 4 else 0 for star in train['rating']]"
   ]
  },
  {
   "cell_type": "code",
   "execution_count": 11,
   "metadata": {},
   "outputs": [
    {
     "name": "stderr",
     "output_type": "stream",
     "text": [
      "C:\\Users\\Nitin\\Anaconda3\\lib\\site-packages\\sklearn\\cross_validation.py:41: DeprecationWarning: This module was deprecated in version 0.18 in favor of the model_selection module into which all the refactored classes and functions are moved. Also note that the interface of the new CV iterators are different from that of this module. This module will be removed in 0.20.\n",
      "  \"This module will be removed in 0.20.\", DeprecationWarning)\n"
     ]
    }
   ],
   "source": [
    "#bag of words\n",
    "from sklearn import preprocessing, metrics, cross_validation\n",
    "from sklearn.feature_extraction.text import CountVectorizer\n",
    "cv = CountVectorizer(lowercase=True, stop_words='english', ngram_range=(2, 2),max_features = 300)\n",
    "#pd.concat([train_df , score_df])\n",
    "X1 = cv.fit_transform(train[\"body\"]).toarray()\n",
    "X2 = cv.fit_transform(train[\"title\"]).toarray()\n",
    "Y = train.iloc[:, 2:3].values\n",
    "#y = df_upsampled.rating\n",
    "#X = df_upsampled.drop('rating', axis=1)"
   ]
  },
  {
   "cell_type": "code",
   "execution_count": 12,
   "metadata": {},
   "outputs": [],
   "source": [
    "# Splitting the dataset into the Training set and Test set\n",
    "from sklearn.cross_validation import train_test_split\n",
    "X1_train, X1_test, y_train, y_test = train_test_split(X1, Y, test_size = 0.20, random_state = 0)"
   ]
  },
  {
   "cell_type": "code",
   "execution_count": 13,
   "metadata": {},
   "outputs": [],
   "source": [
    "#Applying Logistic Regression on baised data"
   ]
  },
  {
   "cell_type": "code",
   "execution_count": 16,
   "metadata": {},
   "outputs": [
    {
     "name": "stdout",
     "output_type": "stream",
     "text": [
      "[[ 12  27]\n",
      " [ 21 114]]\n",
      "0.7241379310344828\n"
     ]
    },
    {
     "name": "stderr",
     "output_type": "stream",
     "text": [
      "C:\\Users\\Nitin\\Anaconda3\\lib\\site-packages\\sklearn\\utils\\validation.py:475: DataConversionWarning: Data with input dtype int64 was converted to float64 by StandardScaler.\n",
      "  warnings.warn(msg, DataConversionWarning)\n",
      "C:\\Users\\Nitin\\Anaconda3\\lib\\site-packages\\sklearn\\utils\\validation.py:578: DataConversionWarning: A column-vector y was passed when a 1d array was expected. Please change the shape of y to (n_samples, ), for example using ravel().\n",
      "  y = column_or_1d(y, warn=True)\n"
     ]
    }
   ],
   "source": [
    "\n",
    "from sklearn.linear_model import LogisticRegression\n",
    "from sklearn.metrics import accuracy_score\n",
    "from sklearn.metrics import roc_auc_score\n",
    "\n",
    "# Feature Scaling\n",
    "from sklearn.preprocessing import StandardScaler\n",
    "sc = StandardScaler()\n",
    "X1_train = sc.fit_transform(X1_train)\n",
    "#X2_train = sc.fit_transform(X2_train)\n",
    "X1_test = sc.transform(X1_test)\n",
    "#X2_test = sc.transform(X2_test)\n",
    "\n",
    "# Fitting Logistic Regression to the Training set\n",
    "from sklearn.linear_model import LogisticRegression\n",
    "classifier = LogisticRegression(random_state = 0)\n",
    "classifier.fit(X1_train, y_train)\n",
    "\n",
    "# Predicting the Test set results\n",
    "y_pred = classifier.predict(X1_test)\n",
    "\n",
    "# Confusion Matrix\n",
    "from sklearn.metrics import confusion_matrix\n",
    "cm = confusion_matrix(y_test, y_pred)\n",
    "\n",
    "print(cm)\n",
    "accuracy=cm.trace()/cm.sum()\n",
    "print(accuracy)"
   ]
  },
  {
   "cell_type": "code",
   "execution_count": null,
   "metadata": {},
   "outputs": [],
   "source": [
    "#logistic regression producing accuracy of 72.4%"
   ]
  },
  {
   "cell_type": "code",
   "execution_count": null,
   "metadata": {},
   "outputs": [],
   "source": [
    "#Now applying Random Forest"
   ]
  },
  {
   "cell_type": "code",
   "execution_count": 15,
   "metadata": {},
   "outputs": [
    {
     "name": "stderr",
     "output_type": "stream",
     "text": [
      "C:\\Users\\Nitin\\Anaconda3\\lib\\site-packages\\ipykernel_launcher.py:4: DataConversionWarning: A column-vector y was passed when a 1d array was expected. Please change the shape of y to (n_samples,), for example using ravel().\n",
      "  after removing the cwd from sys.path.\n"
     ]
    },
    {
     "name": "stdout",
     "output_type": "stream",
     "text": [
      "[[  6  33]\n",
      " [  5 130]]\n",
      "0.7816091954022989\n"
     ]
    }
   ],
   "source": [
    "from sklearn.ensemble import RandomForestClassifier\n",
    "\n",
    "forest = RandomForestClassifier (min_samples_leaf=1,min_samples_split=8,n_estimators=500,max_depth=None,random_state=123)\n",
    "forest.fit(X1_train,y_train)\n",
    "y1_pred_rf = forest.predict(X1_test)\n",
    "\n",
    "from sklearn.metrics import confusion_matrix\n",
    "rfcm=confusion_matrix(y_test,y1_pred_rf)\n",
    "print(rfcm)\n",
    "rfaccuracy=rfcm.trace()/rfcm.sum()\n",
    "print(rfaccuracy)"
   ]
  },
  {
   "cell_type": "code",
   "execution_count": null,
   "metadata": {},
   "outputs": [],
   "source": [
    "#Random Forest produced accuracy of 78%"
   ]
  },
  {
   "cell_type": "code",
   "execution_count": null,
   "metadata": {},
   "outputs": [],
   "source": []
  },
  {
   "cell_type": "code",
   "execution_count": null,
   "metadata": {},
   "outputs": [],
   "source": []
  }
 ],
 "metadata": {
  "kernelspec": {
   "display_name": "Python 3",
   "language": "python",
   "name": "python3"
  },
  "language_info": {
   "codemirror_mode": {
    "name": "ipython",
    "version": 3
   },
   "file_extension": ".py",
   "mimetype": "text/x-python",
   "name": "python",
   "nbconvert_exporter": "python",
   "pygments_lexer": "ipython3",
   "version": "3.6.4"
  }
 },
 "nbformat": 4,
 "nbformat_minor": 2
}
